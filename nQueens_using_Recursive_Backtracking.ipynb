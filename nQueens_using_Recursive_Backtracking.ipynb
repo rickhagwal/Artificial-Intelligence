{
 "cells": [
  {
   "cell_type": "code",
   "execution_count": null,
   "metadata": {},
   "outputs": [],
   "source": [
    "global n\n",
    "n = 15\n",
    "#print result\n",
    "def print_result(board):\n",
    "    for i in range(n):\n",
    "        for j in range(n):\n",
    "            if board[i][j] ==1:\n",
    "                print('(',i,',',j,')', end =\" \")\n",
    "#check for queen conditions in order to place them\n",
    "# condition check   \n",
    "def queen_cond(board,row,col):\n",
    "  #row condition check   \n",
    "    for i in range(col):\n",
    "        if board[row][i] ==1:\n",
    "            return False\n",
    "  #upper diagonal condition check      \n",
    "    for i,j in zip(range(row,-1,-1),range(col,-1,-1)):\n",
    "        if board[i][j] ==1:\n",
    "            return False\n",
    "  #lower diagonal condition check   \n",
    "    for i,j in zip(range(row,n,1),range(col,-1,-1)):\n",
    "        if board[i][j] ==1:\n",
    "            return False\n",
    "    return True\n",
    "\n",
    "#Recursive function \n",
    "def n_queens_recursive_func(board,col):\n",
    "    if col == n:\n",
    "        print_result(board);\n",
    "        print('\\n')\n",
    "        return True\n",
    "    result=False\n",
    "    for i in range(n):\n",
    "        if queen_cond(board,i,col):\n",
    "            # Place queen on board\n",
    "            board[i][col]=1 \n",
    "            result = n_queens_recursive_func(board,col+1,) or result\n",
    "            # if placing queen doesn't affect other queens, then, backtrack\n",
    "            board[i][col]=0\n",
    "    return result\n",
    "\n",
    "#Backtracking of n queens    \n",
    "def n_queens_via_backtracking():\n",
    "    board =  [[0 for x in range(n)] for y in range(n)] \n",
    "    if n_queens_recursive_func(board,0)==False:\n",
    "        print('No solution exists')\n",
    "        return False\n",
    "    return True\n",
    "\n",
    "#solve n queens problem\n",
    "def solve_n_queens_problem():\n",
    "    print('Output for',n,'queens problem is: ')\n",
    "    n_queens_via_backtracking(); \n",
    "\n",
    "solve_n_queens_problem()"
   ]
  }
 ],
 "metadata": {
  "kernelspec": {
   "display_name": "Python 3",
   "language": "python",
   "name": "python3"
  },
  "language_info": {
   "codemirror_mode": {
    "name": "ipython",
    "version": 3
   },
   "file_extension": ".py",
   "mimetype": "text/x-python",
   "name": "python",
   "nbconvert_exporter": "python",
   "pygments_lexer": "ipython3",
   "version": "3.6.5"
  }
 },
 "nbformat": 4,
 "nbformat_minor": 2
}
